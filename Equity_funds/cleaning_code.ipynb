{
 "cells": [
  {
   "cell_type": "code",
   "execution_count": 1,
   "metadata": {},
   "outputs": [
    {
     "name": "stdout",
     "output_type": "stream",
     "text": [
      "Global Funds (Open End and\n"
     ]
    }
   ],
   "source": [
    "import xlwt, xlrd, re\n",
    "from xlutils.copy import copy \n",
    "import os\n",
    "import pandas as pd\n",
    "import numpy as np\n",
    "import datetime\n",
    "workbook = xlrd.open_workbook(\"AllAusFundsExtraFields.xlsx\")\n",
    "\n",
    "import re\n",
    "#considering only alphanumeric characters and spaces\n",
    "regex = re.compile('[^a-zA-Z0-9\\n\\.\\s]')\n",
    "\n",
    "#checking the sheets present in the workbook\n",
    "for sheetName in workbook.sheet_names():\n",
    "    print(sheetName)\n",
    "    curr_sheet=workbook.sheet_by_name(sheetName)\n",
    "    "
   ]
  },
  {
   "cell_type": "code",
   "execution_count": 5,
   "metadata": {},
   "outputs": [
    {
     "name": "stdout",
     "output_type": "stream",
     "text": [
      "Opening sheet: Global Funds (Open End and\n",
      "Global Fund Report Analysis Date\n",
      "Inception Date\n",
      "Primary Prospectus Benchmark Inception Date\n",
      "Net Assets Date\n",
      "Fund Size Date\n",
      "Shares Outstanding Date\n",
      "Portfolio Date\n",
      "Return Date (Daily)\n",
      "Annual Report Ongoing Charge Date\n",
      "Turnover Ratio % Date\n",
      "Target Date Report Date\n",
      "ETF Qualitative Rating Date\n",
      "Latest Accounting Date\n"
     ]
    }
   ],
   "source": [
    "#Checking for the dates in the sheet\n",
    "for sheetName in workbook.sheet_names():\n",
    "    print(\"Opening sheet: \"+sheetName)\n",
    "    for colnum in range(0,curr_sheet.ncols):\n",
    "        if \"Date\" in curr_sheet.cell_value(0,colnum):\n",
    "            print(curr_sheet.cell_value(0,colnum))\n",
    "            "
   ]
  },
  {
   "cell_type": "code",
   "execution_count": 3,
   "metadata": {},
   "outputs": [
    {
     "data": {
      "text/plain": [
       "'\\nGlobal Fund Report Analysis Date\\nInception Date\\nPrimary Prospectus Benchmark Inception Date\\nNet Assets Date\\nFund Size Date\\nShares Outstanding Date\\nPortfolio Date\\nReturn Date (Daily)\\nAnnual Report Ongoing Charge Date\\nTurnover Ratio % Date\\nTarget Date Report Date\\nETF Qualitative Rating Date\\nLatest Accounting Date\\n'"
      ]
     },
     "execution_count": 3,
     "metadata": {},
     "output_type": "execute_result"
    }
   ],
   "source": [
    "'''\n",
    "Global Fund Report Analysis Date\n",
    "Inception Date\n",
    "Primary Prospectus Benchmark Inception Date\n",
    "Net Assets Date\n",
    "Fund Size Date\n",
    "Shares Outstanding Date\n",
    "Portfolio Date\n",
    "Return Date (Daily)\n",
    "Annual Report Ongoing Charge Date\n",
    "Turnover Ratio % Date\n",
    "Target Date Report Date\n",
    "ETF Qualitative Rating Date\n",
    "Latest Accounting Date\n",
    "'''"
   ]
  },
  {
   "cell_type": "code",
   "execution_count": 4,
   "metadata": {},
   "outputs": [],
   "source": [
    "#creating a list of dates\n",
    "listofdates=[\"Global Fund Report Analysis Date\",\"Inception Date\",\"Primary Prospectus Benchmark Inception Date\",\"Net Assets Date\",\"Fund Size Date\",\"Shares Outstanding Date\",\"Return Date (Daily)\",\"Portfolio Date\",\"Annual Report Ongoing Charge Date\",\"Turnover Ratio % Date\",\"Target Date Report Date\",\"ETF Qualitative Rating Date\",\"Latest Accounting Date\"]"
   ]
  },
  {
   "cell_type": "code",
   "execution_count": 7,
   "metadata": {},
   "outputs": [],
   "source": [
    "#Note:special care needs be taken while dealing with dates"
   ]
  },
  {
   "cell_type": "code",
   "execution_count": 8,
   "metadata": {},
   "outputs": [
    {
     "name": "stdout",
     "output_type": "stream",
     "text": [
      "Global Funds (Open End and\n"
     ]
    }
   ],
   "source": [
    "import re\n",
    "regex = re.compile('[^a-zA-Z0-9\\n\\.\\s]')\n",
    "#Creating a writer for creating final dataframe\n",
    "writer = pd.ExcelWriter('funds_testing.xlsx', engine='xlsxwriter')\n",
    "for sheetName in workbook.sheet_names():\n",
    "    print(sheetName)\n",
    "    curr_sheet=workbook.sheet_by_name(sheetName)\n",
    "    sheetdict = {}\n",
    "    #Iterating over all the columns\n",
    "    for colnum in range(0,curr_sheet.ncols):\n",
    "        #create a list for each col\n",
    "        col_values_list = []\n",
    "        #Iterating over all the rows\n",
    "        for rownum in range(1,curr_sheet.nrows):\n",
    "            var_holder=curr_sheet.cell_value(rownum, colnum)\n",
    "            #checking if the current column is in the listofdates\n",
    "            if(curr_sheet.cell_value(0, colnum) in listofdates):\n",
    "                # if the is nothing then append space to the list\n",
    "                # else convert it to a int and use function of the\n",
    "                # datetime library to get the current date\n",
    "                if(type(var_holder)==str):\n",
    "                    col_values_list.append(\"\")\n",
    "                    continue\n",
    "                temp=int(var_holder)\n",
    "                col_values_list.append(datetime.date.fromordinal(693594+temp))\n",
    "                continue\n",
    "            #if there is a float value append it to the corresponding list\n",
    "            elif(type(var_holder)==float):\n",
    "                col_values_list.append(var_holder)\n",
    "                continue\n",
    "            #if it is not a float and the column name\n",
    "            #removing non-alphanumric characters from the variable\n",
    "            var_holder=str(var_holder)\n",
    "            var_holder=regex.sub('',var_holder)\n",
    "            #append it to the corresponding list\n",
    "            col_values_list.append(var_holder)\n",
    "        #append the list to the dict\n",
    "        sheetdict[curr_sheet.cell_value(0, colnum)] = col_values_list\n",
    "    #convertint dict to dataframe\n",
    "    finaldf=pd.DataFrame(sheetdict)\n",
    "    #writing dataframe to excel\n",
    "    finaldf.to_excel(writer, sheet_name=sheetName)\n",
    "#saving the excel file\n",
    "writer.save()\n"
   ]
  },
  {
   "cell_type": "code",
   "execution_count": null,
   "metadata": {},
   "outputs": [],
   "source": []
  }
 ],
 "metadata": {
  "kernelspec": {
   "display_name": "Python 3",
   "language": "python",
   "name": "python3"
  },
  "language_info": {
   "codemirror_mode": {
    "name": "ipython",
    "version": 3
   },
   "file_extension": ".py",
   "mimetype": "text/x-python",
   "name": "python",
   "nbconvert_exporter": "python",
   "pygments_lexer": "ipython3",
   "version": "3.7.1"
  }
 },
 "nbformat": 4,
 "nbformat_minor": 2
}
